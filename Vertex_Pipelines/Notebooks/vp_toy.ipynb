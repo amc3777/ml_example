{
 "cells": [
  {
   "cell_type": "markdown",
   "id": "d5f33e3c",
   "metadata": {},
   "source": [
    "# A toy example based on the codelab here: \n",
    "#### https://codelabs.developers.google.com/vertex-pipelines-intro"
   ]
  },
  {
   "cell_type": "code",
   "execution_count": 1,
   "id": "03ff1436",
   "metadata": {},
   "outputs": [],
   "source": [
    "USER_FLAG = \"--user\""
   ]
  },
  {
   "cell_type": "code",
   "execution_count": null,
   "id": "f5264730",
   "metadata": {},
   "outputs": [],
   "source": [
    "!pip3 install {USER_FLAG} google-cloud-aiplatform --upgrade\n",
    "!pip3 install {USER_FLAG} kfp google-cloud-pipeline-components --upgrade"
   ]
  },
  {
   "cell_type": "code",
   "execution_count": null,
   "id": "561e75b2",
   "metadata": {},
   "outputs": [],
   "source": [
    "import os\n",
    "\n",
    "if not os.getenv(\"IS_TESTING\"):\n",
    "    # Automatically restart kernel after installs\n",
    "    import IPython\n",
    "\n",
    "    app = IPython.Application.instance()\n",
    "    app.kernel.do_shutdown(True)"
   ]
  },
  {
   "cell_type": "code",
   "execution_count": 2,
   "id": "cf744a59",
   "metadata": {},
   "outputs": [
    {
     "name": "stdout",
     "output_type": "stream",
     "text": [
      "KFP SDK version: 1.7.0\n",
      "google_cloud_pipeline_components version: 0.1.4\n"
     ]
    }
   ],
   "source": [
    "!python3 -c \"import kfp; print('KFP SDK version: {}'.format(kfp.__version__))\"\n",
    "!python3 -c \"import google_cloud_pipeline_components; print('google_cloud_pipeline_components version: {}'.format(google_cloud_pipeline_components.__version__))\""
   ]
  },
  {
   "cell_type": "markdown",
   "id": "78dec67e",
   "metadata": {},
   "source": [
    "### KFP SDK v2 documentation:\n",
    "#### https://www.kubeflow.org/docs/components/pipelines/sdk/v2/\n",
    "### KFP Github:\n",
    "#### https://github.com/kubeflow/pipelines\n",
    "### GCPC documentation:\n",
    "#### https://google-cloud-pipeline-components.readthedocs.io/\n",
    "### GCPC Github:\n",
    "#### https://github.com/kubeflow/pipelines/tree/master/components/google-cloud"
   ]
  },
  {
   "cell_type": "code",
   "execution_count": 3,
   "id": "26559761",
   "metadata": {},
   "outputs": [
    {
     "name": "stdout",
     "output_type": "stream",
     "text": [
      "Project ID:  kubeflow-on-gcp-123\n"
     ]
    }
   ],
   "source": [
    "import os\n",
    "PROJECT_ID = \"kubeflow-on-gcp-123\"\n",
    "\n",
    "# Get your Google Cloud project ID from gcloud\n",
    "if not os.getenv(\"IS_TESTING\"):\n",
    "    shell_output=!gcloud config list --format 'value(core.project)' 2>/dev/null\n",
    "    PROJECT_ID = shell_output[0]\n",
    "    print(\"Project ID: \", PROJECT_ID)"
   ]
  },
  {
   "cell_type": "code",
   "execution_count": 4,
   "id": "ceeaf3ea",
   "metadata": {},
   "outputs": [],
   "source": [
    "BUCKET_NAME=\"gs://aiplatform-custom\""
   ]
  },
  {
   "cell_type": "markdown",
   "id": "185fb089",
   "metadata": {},
   "source": [
    "### Import a number of packages with comments describing each"
   ]
  },
  {
   "cell_type": "code",
   "execution_count": 5,
   "id": "f92dce7c",
   "metadata": {},
   "outputs": [],
   "source": [
    "from typing import NamedTuple\n",
    "\n",
    "import kfp\n",
    "from kfp import dsl # contains the domain-specific language (DSL) that you can use to define and interact with pipelines and components\n",
    "from kfp.v2 import compiler # includes classes and methods for compiling pipeline Python DSL into a workflow JSON spec\n",
    "from kfp.v2.dsl import (Artifact, Dataset, Input, InputPath, Model, Output,\n",
    "                        OutputPath, ClassificationMetrics, Metrics, component) #import a number of features from the v2 DSL\n",
    "from kfp.v2.google.client import AIPlatformClient # client used to interface with the Vertex AI APIs - to be deprecated\n",
    "\n",
    "from google.cloud import aiplatform # Vertex AI SDK - new interface to interface with APIS programmatically\n",
    "from google_cloud_pipeline_components import aiplatform as gcc_aip # pre-built components for Vertex AI"
   ]
  },
  {
   "cell_type": "code",
   "execution_count": 6,
   "id": "cf9c2922",
   "metadata": {},
   "outputs": [
    {
     "name": "stdout",
     "output_type": "stream",
     "text": [
      "env: PATH=/usr/local/cuda/bin:/opt/conda/bin:/opt/conda/condabin:/usr/local/bin:/usr/bin:/bin:/usr/local/games:/usr/games:/home/jupyter/.local/bin\n"
     ]
    },
    {
     "data": {
      "text/plain": [
       "'gs://aiplatform-custom/pipeline_root/'"
      ]
     },
     "execution_count": 6,
     "metadata": {},
     "output_type": "execute_result"
    }
   ],
   "source": [
    "PATH=%env PATH\n",
    "%env PATH={PATH}:/home/jupyter/.local/bin\n",
    "REGION=\"us-central1\"\n",
    "\n",
    "PIPELINE_ROOT = f\"{BUCKET_NAME}/pipeline_root/\"\n",
    "PIPELINE_ROOT"
   ]
  },
  {
   "cell_type": "markdown",
   "id": "3f1bb7d7",
   "metadata": {},
   "source": [
    "#### A Python function based component\n",
    "##### @component is a decorator used to compile the function when the pipeline runs - used anytime a custom component is defined\n",
    "##### base_image parameter specifies the container image this component will use - in this case, an image from public DockerHub for Python 3.9; default is Python 3.7\n",
    "##### output_component_file parameter is optional and specifies the yaml file to write the compiled component to"
   ]
  },
  {
   "cell_type": "code",
   "execution_count": 7,
   "id": "eb4d6052",
   "metadata": {},
   "outputs": [],
   "source": [
    "@component(base_image=\"python:3.9\", output_component_file=\"first-component.yaml\")\n",
    "def product_name(text: str) -> str: # all pipeline parameters must be annotated with data types\n",
    "    return text"
   ]
  },
  {
   "cell_type": "code",
   "execution_count": null,
   "id": "6f133508",
   "metadata": {},
   "outputs": [],
   "source": [
    "# product_name_component = kfp.components.load_component_from_file('./first-component.yaml')"
   ]
  },
  {
   "cell_type": "markdown",
   "id": "3cd3e39b",
   "metadata": {},
   "source": [
    "##### packages_to_install paramater tells the component any external library dependencies for this container"
   ]
  },
  {
   "cell_type": "code",
   "execution_count": 8,
   "id": "b3f623e1",
   "metadata": {},
   "outputs": [],
   "source": [
    "@component(packages_to_install=[\"emoji\"])\n",
    "def emoji(\n",
    "    text: str,\n",
    ") -> NamedTuple(\n",
    "    \"Outputs\",\n",
    "    [\n",
    "        (\"emoji_text\", str),\n",
    "        (\"emoji\", str),\n",
    "    ],\n",
    "):\n",
    "    import emoji\n",
    "\n",
    "    emoji_text = text\n",
    "    emoji_str = emoji.emojize(':' + emoji_text + ':', use_aliases=True)\n",
    "    print(\"output one: {}; output_two: {}\".format(emoji_text, emoji_str))\n",
    "    return (emoji_text, emoji_str)"
   ]
  },
  {
   "cell_type": "code",
   "execution_count": 9,
   "id": "8026e7b3",
   "metadata": {},
   "outputs": [],
   "source": [
    "@component\n",
    "def build_sentence(\n",
    "    product: str, #output from previous task\n",
    "    emoji: str, #output from previous task\n",
    "    emojitext: str #output from previous task\n",
    ") -> str:\n",
    "    print(\"We completed the pipeline, hooray!\")\n",
    "    end_str = product + \" is \"\n",
    "    if len(emoji) > 0:\n",
    "        end_str += emoji\n",
    "    else:\n",
    "        end_str += emojitext\n",
    "    return(end_str)"
   ]
  },
  {
   "cell_type": "markdown",
   "id": "b213e792",
   "metadata": {},
   "source": [
    "#### Define a pipeline function\n",
    "##### @dsl.pipeline decorator with arguments"
   ]
  },
  {
   "cell_type": "code",
   "execution_count": 10,
   "id": "b07fab7e",
   "metadata": {},
   "outputs": [],
   "source": [
    "@dsl.pipeline(\n",
    "    name=\"emoji-pipeline\",\n",
    "    description=\"An intro pipeline\",\n",
    "    pipeline_root=PIPELINE_ROOT,\n",
    ")\n",
    "\n",
    "# Change the `text` and `emoji_str` parameters to update the pipeline output\n",
    "def intro_pipeline(text: str = \"Vertex Model Monitoring\", emoji_str: str = \"sparkles\"):\n",
    "    product_task = product_name(text) # .set_caching_options(False)\n",
    "    emoji_task = emoji(emoji_str)\n",
    "    consumer_task = build_sentence(\n",
    "        product_task.output,\n",
    "        emoji_task.outputs[\"emoji\"],\n",
    "        emoji_task.outputs[\"emoji_text\"],\n",
    "    )"
   ]
  },
  {
   "cell_type": "markdown",
   "id": "f9616abb",
   "metadata": {},
   "source": [
    "#### This is the pipeline BUILD step\n",
    "##### can also be compiled with dsl-compile-v2 --py <py_file> --output <output_json>, this would require an actual .py application"
   ]
  },
  {
   "cell_type": "code",
   "execution_count": 11,
   "id": "c5c3ee7a",
   "metadata": {},
   "outputs": [],
   "source": [
    "compiler.Compiler().compile(\n",
    "    pipeline_func=intro_pipeline, package_path=\"emoji_pipeline_spec.json\"\n",
    ")"
   ]
  },
  {
   "cell_type": "markdown",
   "id": "7136ea0b",
   "metadata": {},
   "source": [
    "#### This is the pipeline DEPLOY step\n",
    "##### can also be done with the Vertex AI SDK as seen in the commented cells below\n",
    "##### in KFP v1 the CLI can 'upload' pipeline specs and 'submit run' to create a run, not yet available with v2\n",
    "##### https://cloud.google.com/vertex-ai/docs/pipelines/run-pipeline#creating_a_pipeline_run"
   ]
  },
  {
   "cell_type": "code",
   "execution_count": 15,
   "id": "09dd1829",
   "metadata": {},
   "outputs": [
    {
     "name": "stderr",
     "output_type": "stream",
     "text": [
      "/home/jupyter/.local/lib/python3.7/site-packages/kfp/v2/google/client/client.py:175: FutureWarning: AIPlatformClient will be deprecated in v1.9. Please use PipelineJob https://googleapis.dev/python/aiplatform/latest/_modules/google/cloud/aiplatform/pipeline_jobs.html in Vertex SDK. Install the SDK using \"pip install google-cloud-aiplatform\"\n",
      "  category=FutureWarning,\n"
     ]
    },
    {
     "data": {
      "text/html": [
       "See the Pipeline job <a href=\"https://console.cloud.google.com/vertex-ai/locations/us-central1/pipelines/runs/emoji-pipeline-20210812145027?project=kubeflow-on-gcp-123\" target=\"_blank\" >here</a>."
      ],
      "text/plain": [
       "<IPython.core.display.HTML object>"
      ]
     },
     "metadata": {},
     "output_type": "display_data"
    }
   ],
   "source": [
    "api_client = AIPlatformClient(\n",
    "    project_id=PROJECT_ID,\n",
    "    region=REGION,\n",
    ")\n",
    "\n",
    "response = api_client.create_run_from_job_spec(\n",
    "    job_spec_path=\"emoji_pipeline_spec.json\",\n",
    "    enable_caching=True) # True by default\n",
    "    # 'KFP caching' checks to see whether or not an execution exists in ML Metadata with the interface of each pipeline step\n",
    "    # if there is a matching execution the outputs of that execution are used and the step is skipped"
   ]
  },
  {
   "cell_type": "code",
   "execution_count": null,
   "id": "08c11b36",
   "metadata": {},
   "outputs": [],
   "source": [
    "#from google.cloud import aiplatform\n",
    "\n",
    "#pipeline_job = aiplatform.PipelineJob(\n",
    "#   display_name='emoji-pipeline',\n",
    "#   template_path='emoji_pipeline_spec.json',\n",
    "#   pipeline_root=PIPELINE_ROOT,\n",
    "#   enable_caching=True\n",
    "#)"
   ]
  },
  {
   "cell_type": "code",
   "execution_count": null,
   "id": "7c6c3bac",
   "metadata": {},
   "outputs": [],
   "source": [
    "#pipeline_job.run(sync=False)"
   ]
  },
  {
   "cell_type": "code",
   "execution_count": null,
   "id": "371bceee",
   "metadata": {},
   "outputs": [],
   "source": [
    "#aiplatform.PipelineJob.list()"
   ]
  },
  {
   "cell_type": "code",
   "execution_count": null,
   "id": "2aa3382b",
   "metadata": {},
   "outputs": [],
   "source": [
    "#pipeline_job.delete()"
   ]
  }
 ],
 "metadata": {
  "environment": {
   "name": "tf2-gpu.2-3.m65",
   "type": "gcloud",
   "uri": "gcr.io/deeplearning-platform-release/tf2-gpu.2-3:m65"
  },
  "kernelspec": {
   "display_name": "Python 3",
   "language": "python",
   "name": "python3"
  },
  "language_info": {
   "codemirror_mode": {
    "name": "ipython",
    "version": 3
   },
   "file_extension": ".py",
   "mimetype": "text/x-python",
   "name": "python",
   "nbconvert_exporter": "python",
   "pygments_lexer": "ipython3",
   "version": "3.7.10"
  }
 },
 "nbformat": 4,
 "nbformat_minor": 5
}
