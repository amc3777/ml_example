{
 "cells": [
  {
   "cell_type": "code",
   "execution_count": null,
   "id": "e9571084",
   "metadata": {},
   "outputs": [],
   "source": [
    "!pip3 install google-cloud-aiplatform --upgrade --user\n",
    "!pip3 install sklearn --upgrade --user --quiet"
   ]
  },
  {
   "cell_type": "code",
   "execution_count": null,
   "id": "2e3bdd6c",
   "metadata": {},
   "outputs": [],
   "source": [
    "import sklearn\n",
    "print('The scikit-learn version is {}.'.format(sklearn.__version__))"
   ]
  },
  {
   "cell_type": "code",
   "execution_count": null,
   "id": "8a45b4a5",
   "metadata": {},
   "outputs": [],
   "source": [
    "from sklearn import datasets\n",
    "from sklearn.model_selection import train_test_split\n",
    "from sklearn import svm\n",
    "\n",
    "import joblib\n",
    "\n",
    "# Load the Iris dataset\n",
    "iris = datasets.load_iris()\n",
    "X = iris.data\n",
    "y = iris.target\n",
    "X_train, X_test, y_train, y_test = train_test_split(X, y, test_size=0.33, random_state=42)\n",
    "\n",
    "# Train a classifier\n",
    "classifier = svm.SVC()\n",
    "classifier.fit(X_train, y_train)\n",
    "\n",
    "# Export the classifier to a file\n",
    "joblib.dump(classifier, 'model.joblib')"
   ]
  },
  {
   "cell_type": "code",
   "execution_count": null,
   "id": "05563e43",
   "metadata": {},
   "outputs": [],
   "source": [
    "!gsutil cp model.joblib gs://aiplatform-custom/model_import"
   ]
  },
  {
   "cell_type": "code",
   "execution_count": null,
   "id": "84db4c53",
   "metadata": {},
   "outputs": [],
   "source": [
    "from google.cloud import aiplatform\n",
    "\n",
    "aiplatform.init(project=\"kubeflow-on-gcp-123\", location=\"us-central1\")\n",
    "\n",
    "model = aiplatform.Model.upload(\n",
    "    display_name='sklearn_upload',\n",
    "    artifact_uri=\"gs://aiplatform-custom/model_import/\",\n",
    "    serving_container_image_uri=\"us-docker.pkg.dev/vertex-ai/prediction/sklearn-cpu.0-24:latest\",\n",
    ")\n",
    "\n",
    "model.wait()\n",
    "\n",
    "print(model.display_name)\n",
    "print(model.resource_name)"
   ]
  },
  {
   "cell_type": "code",
   "execution_count": null,
   "id": "21b91c3f",
   "metadata": {},
   "outputs": [],
   "source": [
    "import json\n",
    "\n",
    "items = X_test.tolist()\n",
    "\n",
    "with open('test_data.jsonl', \"w\") as f:\n",
    "    for i in items:\n",
    "        data = i\n",
    "        f.write(json.dumps(data) + \"\\n\")\n",
    "    f.close()"
   ]
  },
  {
   "cell_type": "code",
   "execution_count": null,
   "id": "0fef7a84",
   "metadata": {},
   "outputs": [],
   "source": [
    "!gsutil cp test_data.jsonl gs://aiplatform-custom/batch_input"
   ]
  },
  {
   "cell_type": "code",
   "execution_count": null,
   "id": "7bfef4f1",
   "metadata": {},
   "outputs": [],
   "source": [
    "batch_prediction_job = model.batch_predict(\n",
    "        job_display_name=\"import-batch\",\n",
    "        gcs_source=\"gs://aiplatform-custom/batch_input/test_data.jsonl\",\n",
    "        gcs_destination_prefix=\"gs://aiplatform-custom/batch_output/\",\n",
    "        machine_type=\"n1-standard-8\",\n",
    "        #accelerator_count=accelerator_count,\n",
    "        #accelerator_type=accelerator_type,\n",
    "        starting_replica_count=1,\n",
    "        max_replica_count=10,\n",
    "        sync=True,\n",
    "    )\n",
    "\n",
    "batch_prediction_job.wait()\n",
    "\n",
    "print(batch_prediction_job.display_name)\n",
    "print(batch_prediction_job.resource_name)\n",
    "print(batch_prediction_job.state)"
   ]
  }
 ],
 "metadata": {
  "environment": {
   "name": "tf2-gpu.2-5.m76",
   "type": "gcloud",
   "uri": "gcr.io/deeplearning-platform-release/tf2-gpu.2-5:m76"
  },
  "kernelspec": {
   "display_name": "Python 3",
   "language": "python",
   "name": "python3"
  },
  "language_info": {
   "codemirror_mode": {
    "name": "ipython",
    "version": 3
   },
   "file_extension": ".py",
   "mimetype": "text/x-python",
   "name": "python",
   "nbconvert_exporter": "python",
   "pygments_lexer": "ipython3",
   "version": "3.7.10"
  }
 },
 "nbformat": 4,
 "nbformat_minor": 5
}
